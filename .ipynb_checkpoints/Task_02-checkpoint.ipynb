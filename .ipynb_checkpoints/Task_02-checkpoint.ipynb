{
 "cells": [
  {
   "cell_type": "markdown",
   "metadata": {
    "id": "v8UXNc6b4twT"
   },
   "source": [
    "**Name: Mozammal Hossain<br>\n",
    "Registration Number: 2017331015**"
   ]
  },
  {
   "cell_type": "markdown",
   "metadata": {
    "id": "tPRMINgR5h8h"
   },
   "source": [
    "# **Task #02 : Simulation of the digital-digital conversion techniques (Line Coding and Decoding, Block Coding and Decoding Schemes)**"
   ]
  },
  {
   "cell_type": "markdown",
   "metadata": {
    "id": "oW8G2RctAjoV"
   },
   "source": [
    "# **Line Coding :**\n",
    "\n",
    "Line coding is the process of converting digital data to digital signals.Line coding converts a sequence of\n",
    "bits to a digital signal. At the sender, digital data are encoded into a digital signal; at the\n",
    "receiver, the digital data are recreated by decoding the digital signal."
   ]
  },
  {
   "cell_type": "markdown",
   "metadata": {
    "id": "pp67EcUAmE5I"
   },
   "source": [
    "**Polar NRZ-L and NRZ-I Schemes:**\n",
    "In polar NRZ encoding, we use two levels of voltage amplitude. We can have two versions of polar NRZ: NRZ-L and NRZ-I. \n",
    "\n",
    "**NRZ-L :**  In NRZ-L the level of the voltage determines the value of the bit."
   ]
  },
  {
   "cell_type": "code",
   "execution_count": 54,
   "metadata": {
    "id": "F1ewdhL_BlIK"
   },
   "outputs": [],
   "source": [
    "import matplotlib.pyplot as plt\n",
    "import numpy as np"
   ]
  },
  {
   "cell_type": "markdown",
   "metadata": {
    "id": "Lg3NtgmNoLZg"
   },
   "source": [
    "***NRZ-L Encoding :***"
   ]
  },
  {
   "cell_type": "code",
   "execution_count": 55,
   "metadata": {
    "colab": {
     "base_uri": "https://localhost:8080/"
    },
    "id": "3VJqXodNAa62",
    "outputId": "3f0439e4-84c2-473a-f3f4-53a26a47aef3"
   },
   "outputs": [
    {
     "name": "stdout",
     "output_type": "stream",
     "text": [
      "NRZ-L encoded bits : [-1, -1, 1, 1, 1, -1, -1, 1, -1, 1, -1, 1]\n"
     ]
    }
   ],
   "source": [
    "bits = [0,0,1,1,1,0,0,1,0,1,0,1]\n",
    "encoded_list = list(bits)\n",
    "encoded_list = [-1 if i==0 else 1 for i in encoded_list]\n",
    "print(\"NRZ-L encoded bits :\",encoded_list)"
   ]
  },
  {
   "cell_type": "code",
   "execution_count": 56,
   "metadata": {
    "colab": {
     "base_uri": "https://localhost:8080/",
     "height": 281
    },
    "id": "-CpTIz-WBVuM",
    "outputId": "fe39a56f-36cb-44b1-91a3-05c920050a4a"
   },
   "outputs": [
    {
     "data": {
      "image/png": "[encoded data removed]",
      "text/plain": [
       "<Figure size 864x288 with 1 Axes>"
      ]
     },
     "metadata": {
      "needs_background": "light"
     },
     "output_type": "display_data"
    }
   ],
   "source": [
    "plt.figure(figsize=(12,4))\n",
    "plt.plot(encoded_list,drawstyle='steps-pre')\n",
    "plt.title(\"NRZ-L Encoding\")\n",
    "plt.show()\n"
   ]
  },
  {
   "cell_type": "markdown",
   "metadata": {
    "id": "LBM6M77poUjv"
   },
   "source": [
    "***NRZ-L Decoding:***"
   ]
  },
  {
   "cell_type": "code",
   "execution_count": 57,
   "metadata": {
    "colab": {
     "base_uri": "https://localhost:8080/"
    },
    "id": "Bqgi1v17A-9j",
    "outputId": "b88ad982-44ab-4eb8-a325-d8cee107867c"
   },
   "outputs": [
    {
     "name": "stdout",
     "output_type": "stream",
     "text": [
      "NRZ-L decoded bits : [0, 0, 1, 1, 1, 0, 0, 1, 0, 1, 0, 1]\n"
     ]
    }
   ],
   "source": [
    "decoded_list=encoded_list\n",
    "decoded_list=[0 if i==-1 else 1 for i in decoded_list]\n",
    "print(\"NRZ-L decoded bits :\",decoded_list)"
   ]
  },
  {
   "cell_type": "code",
   "execution_count": 58,
   "metadata": {
    "colab": {
     "base_uri": "https://localhost:8080/",
     "height": 281
    },
    "id": "n_1U9U_qGkVO",
    "outputId": "56122934-bb41-4fe5-b975-81cd2d9c6982"
   },
   "outputs": [
    {
     "data": {
      "image/png": "[encoded data removed]",
      "text/plain": [
       "<Figure size 864x288 with 1 Axes>"
      ]
     },
     "metadata": {
      "needs_background": "light"
     },
     "output_type": "display_data"
    }
   ],
   "source": [
    "plt.figure(figsize=(12,4))\n",
    "plt.plot(decoded_list,drawstyle='steps-pre')\n",
    "plt.title(\"NRZ-L Decoding\")\n",
    "plt.show()"
   ]
  },
  {
   "cell_type": "markdown",
   "metadata": {
    "id": "LlvIUAaVn4Wt"
   },
   "source": [
    "**NRZ-I:**\n",
    "In NRZ-I the inversion or the lack of inversion determines the value of the bit\n",
    "\n",
    "***NRZ-I Encoding:***"
   ]
  },
  {
   "cell_type": "code",
   "execution_count": 59,
   "metadata": {
    "colab": {
     "base_uri": "https://localhost:8080/"
    },
    "id": "bggIIvwXpm05",
    "outputId": "e766be54-45f1-4771-dae0-953e723c7be1"
   },
   "outputs": [
    {
     "name": "stdout",
     "output_type": "stream",
     "text": [
      "NRZ-I encoded bits : [ 1.  1. -1.  1. -1. -1. -1.  1.  1. -1. -1.  1.]\n"
     ]
    }
   ],
   "source": [
    "bits = np.array([0,0,1,1,1,0,0,1,0,1,0,1])   \n",
    "encoded_bits = np.array([])\n",
    "last_bit = 1\n",
    "for i in range(len(bits)):\n",
    "  if bits[i] == 1:\n",
    "    temp = (-1) * last_bit\n",
    "    last_bit = -last_bit\n",
    "  else:\n",
    "    temp = last_bit\n",
    "  encoded_bits = np.append(encoded_bits,temp)\n",
    "positions = np.arange(0,len(encoded_bits),1)\n",
    "print(\"NRZ-I encoded bits :\",encoded_bits)"
   ]
  },
  {
   "cell_type": "code",
   "execution_count": 60,
   "metadata": {
    "colab": {
     "base_uri": "https://localhost:8080/",
     "height": 281
    },
    "id": "36eA3jTjBv1E",
    "outputId": "919eed82-edfe-44ae-adcd-bf188a7ee723"
   },
   "outputs": [
    {
     "data": {
      "image/png": "[encoded data removed]",
      "text/plain": [
       "<Figure size 864x288 with 1 Axes>"
      ]
     },
     "metadata": {
      "needs_background": "light"
     },
     "output_type": "display_data"
    }
   ],
   "source": [
    "plt.figure(figsize=(12,4))\n",
    "plt.title(\"NRZ-I Encoding\")\n",
    "plt.plot(positions,encoded_bits,drawstyle='steps-pre')\n",
    "plt.axis([0,12,-1.5,1.5])\n",
    "plt.show()\n",
    "\n"
   ]
  },
  {
   "cell_type": "markdown",
   "metadata": {
    "id": "o14of5d1o6CH"
   },
   "source": [
    "***NRZ-I Decoding:***"
   ]
  },
  {
   "cell_type": "code",
   "execution_count": 61,
   "metadata": {
    "colab": {
     "base_uri": "https://localhost:8080/"
    },
    "id": "kO_koijNphRZ",
    "outputId": "47d77c1f-6358-4f80-9d1f-224cf01af966"
   },
   "outputs": [
    {
     "name": "stdout",
     "output_type": "stream",
     "text": [
      "NRZ-I decoded bits : [0, 0, 1, 1, 1, 0, 0, 1, 0, 1, 0, 1]\n"
     ]
    }
   ],
   "source": [
    "decoded_bits = []\n",
    "counter = 0\n",
    "last_bit = 1\n",
    "for i in range(len(encoded_bits)):\n",
    "  if positions[i] >= counter:\n",
    "    counter = counter + 1\n",
    "    if encoded_bits[i] != last_bit:\n",
    "      decoded_bits.append(1)\n",
    "      last_bit=-last_bit\n",
    "    else:\n",
    "      decoded_bits.append(0)\n",
    "print(\"NRZ-I decoded bits :\",decoded_bits)"
   ]
  },
  {
   "cell_type": "code",
   "execution_count": 62,
   "metadata": {
    "colab": {
     "base_uri": "https://localhost:8080/",
     "height": 281
    },
    "id": "HckYyckPDgKx",
    "outputId": "fb4c5bfe-0400-4de7-fdc3-7d20b1dd4d03"
   },
   "outputs": [
    {
     "data": {
      "image/png": "[encoded data removed]",
      "text/plain": [
       "<Figure size 864x288 with 1 Axes>"
      ]
     },
     "metadata": {
      "needs_background": "light"
     },
     "output_type": "display_data"
    }
   ],
   "source": [
    "plt.figure(figsize=(12,4))\n",
    "plt.title(\"NRZ-I Decoding\")\n",
    "plt.plot(positions,decoded_bits,drawstyle='steps-pre')\n",
    "plt.axis([0,12,-.10,1.2])\n",
    "plt.show()"
   ]
  },
  {
   "cell_type": "markdown",
   "metadata": {
    "id": "6bgwGPOKJel7"
   },
   "source": [
    "# **Block Coding**\n",
    "The term block code may also refer to any error-correcting code that acts on a block of n bits of input data to produce m bits of output data (m,n). We need redundancy to ensure synchronization and to provide some kind of inherent\n",
    "error detecting. Block coding can give us this redundancy and improve the perfor-\n",
    "mance of line coding. In general, block coding changes a block of m bits into a block\n",
    "of n bits, where n is larger than m. Block coding is referred to as an mB/nB encoding\n",
    "technique."
   ]
  },
  {
   "cell_type": "markdown",
   "metadata": {
    "id": "souvMlI-OCsf"
   },
   "source": [
    "**4B/5B Block Coding Schemes:**\n",
    "\n",
    "The four binary/five binary (4B/5B) coding scheme was designed to be used in com-bination with NRZ-I.NRZ-I has a good signal rate, one-half that of the\n",
    "biphase, but it has a synchronization problem. A long sequence of 0s can make the\n",
    "receiver clock lose synchronization. One solution is to change the bit stream, prior to\n",
    "encoding with NRZ-I, so that it does not have a long stream of 0s. The 4B/5B scheme\n",
    "achieves this goal. The block-coded stream does not have more that three consecutive\n",
    "0s.\n",
    "There are 5 steps in 4B/5B block coding schemes with NRZ-I :\n",
    "1. 4B/5B encoding\n",
    "2. NRZ -I encoding\n",
    "3. Standard bit streams\n",
    "4. NRZ-I decoding\n",
    "5. 4B/5B decoding\n"
   ]
  },
  {
   "cell_type": "code",
   "execution_count": 63,
   "metadata": {
    "id": "DISQVD9vN2kJ"
   },
   "outputs": [],
   "source": [
    "encoding_maps = {\n",
    "\"0000\": \"11110\",\n",
    "\"0001\": \"01001\",\n",
    "\"0010\": \"10100\",\n",
    "\"0011\": \"10101\",\n",
    "\"0100\": \"01010\",\n",
    "\"0101\": \"01011\",\n",
    "\"0110\": \"01110\",\n",
    "\"0111\": \"01111\",\n",
    "\"1000\": \"10010\",\n",
    "\"1001\": \"10011\",\n",
    "\"1010\": \"10110\",\n",
    "\"1011\": \"10111\",\n",
    "\"1100\": \"11010\",\n",
    "\"1101\": \"11011\",\n",
    "\"1110\": \"11100\",\n",
    "\"1111\": \"11101\",\n",
    "}\n",
    "decoding_maps = {\n",
    "\"11110\": \"0000\",\n",
    "\"01001\": \"0001\",\n",
    "\"10100\": \"0010\",\n",
    "\"10101\": \"0011\",\n",
    "\"01010\": \"0100\",\n",
    "\"01011\": \"0101\",\n",
    "\"01110\": \"0110\",\n",
    "\"01111\": \"0111\",\n",
    "\"10010\": \"1000\",\n",
    "\"10011\": \"1001\",\n",
    "\"10110\": \"1010\",\n",
    "\"10111\": \"1011\",\n",
    "\"11010\": \"1100\",\n",
    "\"11011\": \"1101\",\n",
    "\"11100\": \"1110\",\n",
    "\"11101\": \"1111\",\n",
    "}\n"
   ]
  },
  {
   "cell_type": "markdown",
   "metadata": {
    "id": "MG9SMgqkgxfn"
   },
   "source": [
    "**4B/5B Encoding:**\n"
   ]
  },
  {
   "cell_type": "code",
   "execution_count": 64,
   "metadata": {
    "id": "xAQhBGy4kKws"
   },
   "outputs": [],
   "source": [
    "mB = 4\n",
    "nB = 5\n",
    "bits = np.array([0,1,0,0,1,1,0,0,1,1,1,0,1,0,1,0,1,0,1,0,1,1,1])"
   ]
  },
  {
   "cell_type": "code",
   "execution_count": 65,
   "metadata": {
    "colab": {
     "base_uri": "https://localhost:8080/"
    },
    "id": "1mVWQFKhJhnc",
    "outputId": "0493e04b-0907-4f37-b68d-efeb36935e81"
   },
   "outputs": [
    {
     "name": "stdout",
     "output_type": "stream",
     "text": [
      "[0 1 0 1 0 1 1 0 1 0 1 1 1 0 0 1 0 1 1 0 1 0 1 1 0 1 1 1 0 0]\n"
     ]
    }
   ],
   "source": [
    "if len(bits)%mB != 0:\n",
    "  extra_zeros = np.array(np.zeros(mB-len(bits)%mB),dtype=int)\n",
    "  bits = np.append(bits,extra_zeros)\n",
    "\n",
    "encoded_bits_streams = \"\"\n",
    "for i in range(0, len(bits), mB):\n",
    "  encoded_bits_streams += encoding_maps.get(\"\".join(map(str,bits[i:i+mB])))\n",
    "\n",
    "\n",
    "encoded_bits_streams = np.array(list(encoded_bits_streams),dtype=int)\n",
    "print(encoded_bits_streams)"
   ]
  },
  {
   "cell_type": "markdown",
   "metadata": {
    "id": "Mj9zJacfg5h5"
   },
   "source": [
    "**4B/5B Decoding:**"
   ]
  },
  {
   "cell_type": "code",
   "execution_count": 66,
   "metadata": {
    "colab": {
     "base_uri": "https://localhost:8080/"
    },
    "id": "OqwfE2cCfJy3",
    "outputId": "635f916d-5153-4ae9-cecb-11e08c253110"
   },
   "outputs": [
    {
     "name": "stdout",
     "output_type": "stream",
     "text": [
      "[0 1 0 0 1 1 0 0 1 1 1 0 1 0 1 0 1 0 1 0 1 1 1 0]\n"
     ]
    }
   ],
   "source": [
    "bits = encoded_bits_streams\n",
    "decoded_bits_streams = \"\"\n",
    "if len(bits)%nB !=0:\n",
    "  print(\"There is an error in receiving code blocks\")\n",
    "for i in range(0, len(bits), nB):\n",
    "  decoded_bits_streams += decoding_maps.get(\"\".join(map(str,bits[i:i+nB])))\n",
    "\n",
    "decoded_bits_streams = np.array(list(decoded_bits_streams),dtype=int)\n",
    "print(decoded_bits_streams)"
   ]
  }
 ],
 "metadata": {
  "colab": {
   "collapsed_sections": [
    "6bgwGPOKJel7"
   ],
   "name": "Task #02.ipynb",
   "provenance": []
  },
  "kernelspec": {
   "display_name": "Python 3",
   "language": "python",
   "name": "python3"
  },
  "language_info": {
   "codemirror_mode": {
    "name": "ipython",
    "version": 3
   },
   "file_extension": ".py",
   "mimetype": "text/x-python",
   "name": "python",
   "nbconvert_exporter": "python",
   "pygments_lexer": "ipython3",
   "version": "3.8.5"
  }
 },
 "nbformat": 4,
 "nbformat_minor": 1
}
